{
 "cells": [
  {
   "cell_type": "markdown",
   "metadata": {},
   "source": [
    "# What is the True Normal Human Body Temperature? \n",
    "\n",
    "#### Background\n",
    "\n",
    "The mean normal body temperature was held to be 37$^{\\circ}$C or 98.6$^{\\circ}$F for more than 120 years since it was first conceptualized and reported by Carl Wunderlich in a famous 1868 book. But, is this value statistically correct?"
   ]
  },
  {
   "cell_type": "markdown",
   "metadata": {},
   "source": [
    "<h3>Exercises</h3>\n",
    "\n",
    "<p>In this exercise, you will analyze a dataset of human body temperatures and employ the concepts of hypothesis testing, confidence intervals, and statistical significance.</p>\n",
    "\n",
    "<p>Answer the following questions <b>in this notebook below and submit to your Github account</b>.</p> \n",
    "\n",
    "<ol>\n",
    "<li>  Is the distribution of body temperatures normal? \n",
    "    <ul>\n",
    "    <li> Although this is not a requirement for the Central Limit Theorem to hold (read the introduction on Wikipedia's page about the CLT carefully: https://en.wikipedia.org/wiki/Central_limit_theorem), it gives us some peace of mind that the population may also be normally distributed if we assume that this sample is representative of the population.\n",
    "    <li> Think about the way you're going to check for the normality of the distribution. Graphical methods are usually used first, but there are also other ways: https://en.wikipedia.org/wiki/Normality_test\n",
    "    </ul>\n",
    "<li>  Is the sample size large? Are the observations independent?\n",
    "    <ul>\n",
    "    <li> Remember that this is a condition for the Central Limit Theorem, and hence the statistical tests we are using, to apply.\n",
    "    </ul>\n",
    "<li>  Is the true population mean really 98.6 degrees F?\n",
    "    <ul>\n",
    "    <li> First, try a bootstrap hypothesis test.\n",
    "    <li> Now, let's try frequentist statistical testing. Would you use a one-sample or two-sample test? Why?\n",
    "    <li> In this situation, is it appropriate to use the $t$ or $z$ statistic? \n",
    "    <li> Now try using the other test. How is the result be different? Why?\n",
    "    </ul>\n",
    "<li>  Draw a small sample of size 10 from the data and repeat both frequentist tests. \n",
    "    <ul>\n",
    "    <li> Which one is the correct one to use? \n",
    "    <li> What do you notice? What does this tell you about the difference in application of the $t$ and $z$ statistic?\n",
    "    </ul>\n",
    "<li>  At what temperature should we consider someone's temperature to be \"abnormal\"?\n",
    "    <ul>\n",
    "    <li> As in the previous example, try calculating everything using the boostrap approach, as well as the frequentist approach.\n",
    "    <li> Start by computing the margin of error and confidence interval. When calculating the confidence interval, keep in mind that you should use the appropriate formula for one draw, and not N draws.\n",
    "    </ul>\n",
    "<li>  Is there a significant difference between males and females in normal temperature?\n",
    "    <ul>\n",
    "    <li> What testing approach did you use and why?\n",
    "    <li> Write a story with your conclusion in the context of the original problem.\n",
    "    </ul>\n",
    "</ol>\n",
    "\n",
    "You can include written notes in notebook cells using Markdown: \n",
    "   - In the control panel at the top, choose Cell > Cell Type > Markdown\n",
    "   - Markdown syntax: http://nestacms.com/docs/creating-content/markdown-cheat-sheet\n",
    "\n",
    "#### Resources\n",
    "\n",
    "+ Information and data sources: http://www.amstat.org/publications/jse/datasets/normtemp.txt, http://www.amstat.org/publications/jse/jse_data_archive.htm\n",
    "+ Markdown syntax: http://nestacms.com/docs/creating-content/markdown-cheat-sheet\n",
    "\n",
    "****"
   ]
  },
  {
   "cell_type": "code",
   "execution_count": 12,
   "metadata": {},
   "outputs": [],
   "source": [
    "import pandas as pd\n",
    "import matplotlib.pyplot as plt\n",
    "import numpy as np \n",
    "import scipy.stats as stats\n",
    "\n",
    "df = pd.read_csv('data/human_body_temperature.csv')"
   ]
  },
  {
   "cell_type": "code",
   "execution_count": 6,
   "metadata": {},
   "outputs": [
    {
     "data": {
      "text/html": [
       "<div>\n",
       "<style scoped>\n",
       "    .dataframe tbody tr th:only-of-type {\n",
       "        vertical-align: middle;\n",
       "    }\n",
       "\n",
       "    .dataframe tbody tr th {\n",
       "        vertical-align: top;\n",
       "    }\n",
       "\n",
       "    .dataframe thead th {\n",
       "        text-align: right;\n",
       "    }\n",
       "</style>\n",
       "<table border=\"1\" class=\"dataframe\">\n",
       "  <thead>\n",
       "    <tr style=\"text-align: right;\">\n",
       "      <th></th>\n",
       "      <th>temperature</th>\n",
       "      <th>gender</th>\n",
       "      <th>heart_rate</th>\n",
       "    </tr>\n",
       "  </thead>\n",
       "  <tbody>\n",
       "    <tr>\n",
       "      <th>0</th>\n",
       "      <td>99.3</td>\n",
       "      <td>F</td>\n",
       "      <td>68.0</td>\n",
       "    </tr>\n",
       "    <tr>\n",
       "      <th>1</th>\n",
       "      <td>98.4</td>\n",
       "      <td>F</td>\n",
       "      <td>81.0</td>\n",
       "    </tr>\n",
       "    <tr>\n",
       "      <th>2</th>\n",
       "      <td>97.8</td>\n",
       "      <td>M</td>\n",
       "      <td>73.0</td>\n",
       "    </tr>\n",
       "    <tr>\n",
       "      <th>3</th>\n",
       "      <td>99.2</td>\n",
       "      <td>F</td>\n",
       "      <td>66.0</td>\n",
       "    </tr>\n",
       "    <tr>\n",
       "      <th>4</th>\n",
       "      <td>98.0</td>\n",
       "      <td>F</td>\n",
       "      <td>73.0</td>\n",
       "    </tr>\n",
       "  </tbody>\n",
       "</table>\n",
       "</div>"
      ],
      "text/plain": [
       "   temperature gender  heart_rate\n",
       "0         99.3      F        68.0\n",
       "1         98.4      F        81.0\n",
       "2         97.8      M        73.0\n",
       "3         99.2      F        66.0\n",
       "4         98.0      F        73.0"
      ]
     },
     "execution_count": 6,
     "metadata": {},
     "output_type": "execute_result"
    }
   ],
   "source": [
    "df.head()"
   ]
  },
  {
   "cell_type": "code",
   "execution_count": 7,
   "metadata": {},
   "outputs": [],
   "source": [
    "mean = np.mean(df.temperature)\n",
    "std = np.std(df.temperature)"
   ]
  },
  {
   "cell_type": "markdown",
   "metadata": {
    "collapsed": true
   },
   "source": [
    "### 1. Is the distribution of body temperatures normal?"
   ]
  },
  {
   "cell_type": "markdown",
   "metadata": {},
   "source": [
    "According to the 4 tests below, the distribution of body temperatures is normal."
   ]
  },
  {
   "cell_type": "code",
   "execution_count": 10,
   "metadata": {},
   "outputs": [
    {
     "data": {
      "text/plain": [
       "Text(0, 0.5, 'Frequency')"
      ]
     },
     "execution_count": 10,
     "metadata": {},
     "output_type": "execute_result"
    },
    {
     "data": {
      "image/png": "[encoded data removed]",
      "text/plain": [
       "<Figure size 432x288 with 1 Axes>"
      ]
     },
     "metadata": {
      "needs_background": "light"
     },
     "output_type": "display_data"
    }
   ],
   "source": [
    "## Graphical Approach\n",
    "# Plot the histogram.\n",
    "plt.hist(df.temperature, density=True, alpha=0.6, bins= int(np.sqrt(len(df.temperature))))\n",
    "\n",
    "# Plot the PDF.\n",
    "xmin, xmax = plt.xlim()\n",
    "x = np.linspace(xmin, xmax, 100)\n",
    "p = stats.norm.pdf(x, mean, std)\n",
    "plt.plot(x, p, 'k', linewidth=1)\n",
    "plt.title(\"Histogram of Body Temperature\")\n",
    "plt.xlabel('Temperature in Farenhiet')\n",
    "plt.ylabel('Frequency')"
   ]
  },
  {
   "cell_type": "code",
   "execution_count": 87,
   "metadata": {},
   "outputs": [
    {
     "name": "stdout",
     "output_type": "stream",
     "text": [
      "The data distribution is normal distribution.\n"
     ]
    }
   ],
   "source": [
    "n_stat, n_pval = stats.normaltest(df.temperature)\n",
    "is_normal = 'not normal' if (n_pval < 0.05) else 'normal'\n",
    "\n",
    "print('The data distribution is',is_normal,'distribution.')"
   ]
  },
  {
   "cell_type": "code",
   "execution_count": 13,
   "metadata": {},
   "outputs": [
    {
     "data": {
      "image/png": "[encoded data removed]",
      "text/plain": [
       "<Figure size 432x288 with 1 Axes>"
      ]
     },
     "metadata": {
      "needs_background": "light"
     },
     "output_type": "display_data"
    }
   ],
   "source": [
    "## QQ plot\n",
    "import pylab \n",
    "\n",
    "stats.probplot(df.temperature, dist=\"norm\", plot=pylab)\n",
    "pylab.title(\"Normal Q-Q Plot\")\n",
    "pylab.ylabel(\"Sample quantiles\")\n",
    "pylab.show()"
   ]
  },
  {
   "cell_type": "code",
   "execution_count": 33,
   "metadata": {},
   "outputs": [],
   "source": [
    "## ECDF Approach\n",
    "def ecdf(data):\n",
    "    \"\"\"compute ecdf\"\"\"\n",
    "    return np.sort(data), np.arange(1, len(data)+1)/len(data)"
   ]
  },
  {
   "cell_type": "code",
   "execution_count": 32,
   "metadata": {},
   "outputs": [
    {
     "data": {
      "image/png": "[encoded data removed]",
      "text/plain": [
       "<Figure size 432x288 with 1 Axes>"
      ]
     },
     "metadata": {
      "needs_background": "light"
     },
     "output_type": "display_data"
    }
   ],
   "source": [
    "x_temp, y_temp = ecdf(df.temperature)\n",
    "theoretical = np.random.normal(mean, std, size=1000)\n",
    "x_theo_temp, y_theo_temp = ecdf(theoretical)\n",
    "\n",
    "plt.plot(x_temp,y_temp,marker='.',linestyle='none')\n",
    "plt.plot(x_theo_temp,y_theo_temp)\n",
    "plt.title('Human Body Temp Theoretical vs Actual Distribution')\n",
    "plt.ylabel('cdf')\n",
    "plt.xlabel('temperature in Farenheit')\n",
    "plt.legend(('cdf','ecdf'))\n",
    "plt.show()"
   ]
  },
  {
   "cell_type": "code",
   "execution_count": 34,
   "metadata": {},
   "outputs": [
    {
     "name": "stdout",
     "output_type": "stream",
     "text": [
      "The data distribution is normal distribution.\n"
     ]
    }
   ],
   "source": [
    "# Normal Test Function\n",
    "n_stat, n_pval = stats.normaltest(df.temperature)\n",
    "is_normal = 'not normal' if (n_pval < 0.05) else 'normal'\n",
    "\n",
    "print('The data distribution is',is_normal,'distribution.')"
   ]
  },
  {
   "cell_type": "markdown",
   "metadata": {},
   "source": [
    "### 2. Is the sample size large? Are the observations independent?"
   ]
  },
  {
   "cell_type": "code",
   "execution_count": 35,
   "metadata": {},
   "outputs": [
    {
     "name": "stdout",
     "output_type": "stream",
     "text": [
      "130\n"
     ]
    }
   ],
   "source": [
    "size = len(df)\n",
    "print(size)"
   ]
  },
  {
   "cell_type": "markdown",
   "metadata": {},
   "source": [
    "The dataset contains data for 130 individuals. Since this is greater than 30, it is large enough for the Central Limit Theoren to hold true. It is less than 10% of population, so the observations are independent."
   ]
  },
  {
   "cell_type": "markdown",
   "metadata": {},
   "source": [
    "### 3. Is the true population mean really 98.6 degrees F?"
   ]
  },
  {
   "cell_type": "markdown",
   "metadata": {},
   "source": [
    "**Bootstrap Hypothesis Testing**<br>\n",
    "* $H_0$: True population mean is 98.6<br>\n",
    "* $H_A$: True population mean is not 98.6"
   ]
  },
  {
   "cell_type": "code",
   "execution_count": 36,
   "metadata": {},
   "outputs": [
    {
     "name": "stdout",
     "output_type": "stream",
     "text": [
      "p = 0.0\n"
     ]
    }
   ],
   "source": [
    "# Calculates p value using 100,000 boostrap replicates\n",
    "bootstrap_replicates = np.empty(100000)\n",
    "\n",
    "for i in range(100000):\n",
    "    bootstrap_sample = np.random.choice(df.temperature, size)\n",
    "    bootstrap_replicates[i] = np.mean(bootstrap_sample)\n",
    "\n",
    "p = np.sum(bootstrap_replicates >= 98.6) / len(bootstrap_replicates)\n",
    "print(f'p = {p}')"
   ]
  },
  {
   "cell_type": "markdown",
   "metadata": {},
   "source": [
    "Since the p-value is extremely small (0), we reject the null hypothesis. Therefore, there's significant evidence that the true population mean is not 98.6."
   ]
  },
  {
   "cell_type": "markdown",
   "metadata": {},
   "source": [
    "**Frequentist Statistical Testing with One Sample Test** <br>\n",
    "\n",
    "*One-sample test will be used because we are not comparing 2 different groups*"
   ]
  },
  {
   "cell_type": "code",
   "execution_count": 40,
   "metadata": {},
   "outputs": [
    {
     "name": "stdout",
     "output_type": "stream",
     "text": [
      "Sample mean: 98.24923076923078 \n",
      "Sample standard deviation: 0.7303577789050377\n",
      "Standard error of mean: 0.06405661469519336\n"
     ]
    }
   ],
   "source": [
    "print(f\"Sample mean: {mean}\", f\"\\nSample standard deviation: {std}\")\n",
    "\n",
    "# Need to calculate standard error because do not have population std\n",
    "s = std/np.sqrt(len(df))\n",
    "print(f\"Standard error of mean: {s}\")"
   ]
  },
  {
   "cell_type": "markdown",
   "metadata": {},
   "source": [
    "Calculate 95% Confidence Interval"
   ]
  },
  {
   "cell_type": "code",
   "execution_count": 80,
   "metadata": {},
   "outputs": [
    {
     "name": "stdout",
     "output_type": "stream",
     "text": [
      "Confidence Interval of 95%: [98.12367980442819, 98.37478173403336]\n"
     ]
    }
   ],
   "source": [
    "lower_bd = mean - 1.96*s\n",
    "upper_bd = mean + 1.96*s\n",
    "print(f\"Confidence Interval of 95%: [{lower_bd}, {upper_bd}]\")"
   ]
  },
  {
   "cell_type": "markdown",
   "metadata": {},
   "source": [
    "Since 98.6 does not lie within the confidence interval, the true population mean is not 98.6"
   ]
  },
  {
   "cell_type": "markdown",
   "metadata": {},
   "source": [
    "**Z-Test (Critical Value: 0.01)**\n",
    "\n",
    "Since the sample size is larger than 30, it is appropriate to use z-statistic"
   ]
  },
  {
   "cell_type": "code",
   "execution_count": 54,
   "metadata": {},
   "outputs": [
    {
     "name": "stdout",
     "output_type": "stream",
     "text": [
      "z statistic: -5.475925202078116 \n",
      "p-value: 4.3523151658821886e-08\n"
     ]
    }
   ],
   "source": [
    "z_stat = (mean - 98.6)/s\n",
    "z_pval = stats.norm.sf(abs(z_stat))*2 #twosided\n",
    "print(f\"z statistic: {z_stat}\", f\"\\np-value: {z_pval}\")"
   ]
  },
  {
   "cell_type": "markdown",
   "metadata": {},
   "source": [
    "Since the p-value is extremely smaller than 0.01, we can reject the null hypothesis.\n",
    "\n",
    "Below is what the p-value would have been if we had used t-test."
   ]
  },
  {
   "cell_type": "code",
   "execution_count": 55,
   "metadata": {},
   "outputs": [
    {
     "name": "stdout",
     "output_type": "stream",
     "text": [
      "t statistic: -5.4548232923645195 \n",
      "p-value: 2.4106320415561276e-07\n"
     ]
    }
   ],
   "source": [
    "t_stat, t_pval = stats.ttest_1samp(df.temperature, 98.6, axis=0)\n",
    "print(f\"t statistic: {t_stat}\", f\"\\np-value: {t_pval}\")"
   ]
  },
  {
   "cell_type": "markdown",
   "metadata": {},
   "source": [
    "The p-value of t-test is larger than z-test, meaning t-test distribution is fatter than z-test distribution. However, it is still less than 0.01, and we can still reject the null hypothesis. The true mean is not 98.6"
   ]
  },
  {
   "cell_type": "markdown",
   "metadata": {},
   "source": [
    "### 4. Draw a small sample of size 10 from the data and repeat both frequentist tests."
   ]
  },
  {
   "cell_type": "code",
   "execution_count": 74,
   "metadata": {},
   "outputs": [],
   "source": [
    "np.random.seed(40)\n",
    "temp_10 = np.random.choice(df.temperature, size = 10)"
   ]
  },
  {
   "cell_type": "code",
   "execution_count": 75,
   "metadata": {},
   "outputs": [
    {
     "name": "stdout",
     "output_type": "stream",
     "text": [
      "mean: 98.77000000000001 \n",
      "standard deviation: 0.630951662173895 \n",
      "standard error: 0.19952443459386143\n"
     ]
    }
   ],
   "source": [
    "# Calculate necessary statistics\n",
    "mean_10 = np.mean(temp_10)\n",
    "std_10 = np.std(temp_10)\n",
    "se_10 = std_10/np.sqrt(10)\n",
    "print(f'mean: {mean_10}', f'\\nstandard deviation: {std_10}', f'\\nstandard error: {se_10}') "
   ]
  },
  {
   "cell_type": "markdown",
   "metadata": {},
   "source": [
    "**95% Confidence Interval**"
   ]
  },
  {
   "cell_type": "code",
   "execution_count": 76,
   "metadata": {},
   "outputs": [
    {
     "name": "stdout",
     "output_type": "stream",
     "text": [
      "Confidence Interval of 95%: [98.37893210819604, 99.16106789180398]\n"
     ]
    }
   ],
   "source": [
    "lower_bd_10 = mean_10 - 1.96*se_10\n",
    "upper_bd_10 = mean_10 + 1.96*se_10\n",
    "print(f\"Confidence Interval of 95%: [{lower_bd_10}, {upper_bd_10}]\")"
   ]
  },
  {
   "cell_type": "markdown",
   "metadata": {},
   "source": [
    "**T-Test (Critical Value: 0.01)** <br>\n",
    "\n",
    "*Use t-statistic because sample size < 30*"
   ]
  },
  {
   "cell_type": "code",
   "execution_count": 77,
   "metadata": {},
   "outputs": [
    {
     "name": "stdout",
     "output_type": "stream",
     "text": [
      "t statistic: 0.8083028076079273 \n",
      "p-value: 0.43975836616787\n"
     ]
    }
   ],
   "source": [
    "t_stat_10, t_pval_10 = stats.ttest_1samp(temp_10, 98.6, axis = 0)\n",
    "print(f\"t statistic: {t_stat_10}\", f\"\\np-value: {t_pval_10}\")"
   ]
  },
  {
   "cell_type": "markdown",
   "metadata": {},
   "source": [
    "With a smaller sample size, we are unable to reject the null hypothesis. 98.6 lies within the 95% confidence interval and the p-value for the t-test is greater than 0.01"
   ]
  },
  {
   "cell_type": "markdown",
   "metadata": {},
   "source": [
    "**Z-Test (Critical Value: 0.01)**"
   ]
  },
  {
   "cell_type": "code",
   "execution_count": 78,
   "metadata": {},
   "outputs": [
    {
     "name": "stdout",
     "output_type": "stream",
     "text": [
      "z statistic: -3.260780417008125 \n",
      "p-value: 0.001111060453904971\n"
     ]
    }
   ],
   "source": [
    "z_stat_10 = (mean_10 - 98.6)/se_10\n",
    "z_pval_10 = stats.norm.sf(abs(z_stat_10))*2 #twosided\n",
    "print(f\"z statistic: {z_stat}\", f\"\\np-value: {z_pval}\")"
   ]
  },
  {
   "cell_type": "markdown",
   "metadata": {},
   "source": [
    "The p-value when using z-test is significantly smaller than t-test. Ideally, t-test should be used whenever the sample is less than 30."
   ]
  },
  {
   "cell_type": "markdown",
   "metadata": {},
   "source": [
    "### 5. At what temperature should we consider someone's temperature to be \"abnormal\"?"
   ]
  },
  {
   "cell_type": "markdown",
   "metadata": {},
   "source": [
    "**Bootstrap Hypothesis Testing**"
   ]
  },
  {
   "cell_type": "code",
   "execution_count": 85,
   "metadata": {},
   "outputs": [
    {
     "name": "stdout",
     "output_type": "stream",
     "text": [
      "bootstrap mean temperature: 98.24930553846154\n",
      "95% confidence interval: [98.1231, 98.37]\n"
     ]
    }
   ],
   "source": [
    "bootstrap_replicates = np.empty(10000)\n",
    "for i in range(10000):\n",
    "    bootstrap_replicates[i] = np.mean(np.random.choice(df.temperature,size))\n",
    "bootstrap_ci = np.percentile(bootstrap_replicates,[2.5,97,5])\n",
    "print('bootstrap mean temperature:',bootstrap_replicates.mean())\n",
    "print(f'95% confidence interval: [{round(bootstrap_ci[0],4)}, {bootstrap_ci[1]}]')"
   ]
  },
  {
   "cell_type": "markdown",
   "metadata": {},
   "source": [
    "**Frequentist approach**"
   ]
  },
  {
   "cell_type": "code",
   "execution_count": 88,
   "metadata": {},
   "outputs": [
    {
     "name": "stdout",
     "output_type": "stream",
     "text": [
      "bootstrap mean temperature: 98.24930553846154\n",
      "95% confidence interval: [98.23825927796642, 98.26035179895666]\n"
     ]
    }
   ],
   "source": [
    "bs_mean = np.mean(bootstrap_replicates)\n",
    "bs_std = np.std(bootstrap_replicates)\n",
    "bs_se = bs_std/np.sqrt(size)\n",
    "\n",
    "bs_lower = bs_mean - 1.96*bs_se\n",
    "bs_upper = bs_mean + 1.96*bs_se\n",
    "print(f'bootstrap mean temperature: {bs_mean}')\n",
    "print(f'95% confidence interval: [{bs_lower}, {bs_upper}]')"
   ]
  },
  {
   "cell_type": "markdown",
   "metadata": {},
   "source": [
    "**Predictive intervals using normal interval function**"
   ]
  },
  {
   "cell_type": "code",
   "execution_count": 89,
   "metadata": {},
   "outputs": [
    {
     "data": {
      "text/plain": [
       "(96.81775582674824, 99.68070571171332)"
      ]
     },
     "execution_count": 89,
     "metadata": {},
     "output_type": "execute_result"
    }
   ],
   "source": [
    "predictive_ci = stats.norm.interval(0.95, loc=mean, scale=std)\n",
    "predictive_ci"
   ]
  },
  {
   "cell_type": "markdown",
   "metadata": {},
   "source": [
    "Start by computing the margin of error and confidence interval. When calculating the confidence interval, keep in mind that you should use the appropriate formula for one draw, and not N draws."
   ]
  },
  {
   "cell_type": "code",
   "execution_count": 97,
   "metadata": {},
   "outputs": [
    {
     "name": "stdout",
     "output_type": "stream",
     "text": [
      "95% confidence interval: [96.8177295225769, 99.68073201588466]\n"
     ]
    }
   ],
   "source": [
    "# Use std instead of se because this is the normal temperature for an individual\n",
    "moe = 1.96 * std\n",
    "lower_bd = mean - moe\n",
    "upper_bd = mean + moe\n",
    "print(f'95% confidence interval: [{lower_bd}, {upper_bd}]')"
   ]
  },
  {
   "cell_type": "markdown",
   "metadata": {},
   "source": [
    "Temperature is considered abnormal if it lies above and below of the 95% confidence interval [96.82, 99.68]."
   ]
  },
  {
   "cell_type": "markdown",
   "metadata": {},
   "source": [
    "### 6. Is there a significant difference between males and females in normal temperature?"
   ]
  },
  {
   "cell_type": "code",
   "execution_count": 106,
   "metadata": {},
   "outputs": [],
   "source": [
    "# Subsetting the df\n",
    "male = df[df.gender == 'M'].temperature\n",
    "female = df[df.gender == 'F'].temperature"
   ]
  },
  {
   "cell_type": "code",
   "execution_count": 108,
   "metadata": {},
   "outputs": [
    {
     "data": {
      "image/png": "[encoded data removed]",
      "text/plain": [
       "<Figure size 432x288 with 1 Axes>"
      ]
     },
     "metadata": {
      "needs_background": "light"
     },
     "output_type": "display_data"
    },
    {
     "name": "stdout",
     "output_type": "stream",
     "text": [
      "The difference between the male and female mean temperatures is 0.289230769230727\n"
     ]
    }
   ],
   "source": [
    "# Plotting ECDF\n",
    "x_male, y_male = ecdf(male)\n",
    "x_female, y_female = ecdf(female)\n",
    "plt.plot(x_male, y_male, marker='.', linestyle='none', color='blue')\n",
    "plt.plot(x_female, y_female, marker='.', linestyle='none', color='red')\n",
    "plt.xlabel('Temperature in Farenheit')\n",
    "plt.ylabel('ECDF')\n",
    "plt.legend(('Male', 'Female'), loc='lower right')\n",
    "plt.title('Male vs Female: Human Body Temperature')\n",
    "plt.show()\n",
    "\n",
    "diff = np.abs(np.mean(male) - np.mean(female))\n",
    "print(f'The difference between the male and female mean temperatures is {diff}')"
   ]
  },
  {
   "cell_type": "markdown",
   "metadata": {},
   "source": [
    "According to the graph, there appears to be a difference in the 2 distributions. Therefore, we should do a formal hypothesis test\n",
    "\n",
    "**Distribution Hypothesis Testing (Critical Value 0.05)**\n",
    "\n",
    "$H_0$: There's no difference between males and females. <br>\n",
    "$H_A$: There's a difference."
   ]
  },
  {
   "cell_type": "code",
   "execution_count": 117,
   "metadata": {},
   "outputs": [
    {
     "name": "stdout",
     "output_type": "stream",
     "text": [
      "p-value: 0.0228\n"
     ]
    }
   ],
   "source": [
    "# Bootstrap Permutation\n",
    "bootstrap_replicates = np.empty(10000)\n",
    "for i in range(10000):\n",
    "    perm = np.random.permutation(np.concatenate((male, female)))\n",
    "    perm_male = perm[:len(male)]\n",
    "    perm_fem = perm[len(male):]\n",
    "    bootstrap_replicates[i] = np.abs(np.mean(perm_male) - np.mean(perm_fem))\n",
    "    \n",
    "perm_pval = np.sum(bootstrap_replicates >= diff)/10000\n",
    "print(f'p-value: {perm_pval}')"
   ]
  },
  {
   "cell_type": "code",
   "execution_count": 119,
   "metadata": {},
   "outputs": [
    {
     "name": "stdout",
     "output_type": "stream",
     "text": [
      "z statistic: 2.3032202891940123 \n",
      "p-value: 0.02126645183012935\n"
     ]
    }
   ],
   "source": [
    "# Two Sample Z test\n",
    "se_diff = np.sqrt((np.std(female)/np.sqrt(len(female)))**2 + (np.std(male)/np.sqrt(len(male)))**2)\n",
    "z_stat = (diff - 0)/se_diff\n",
    "z_pval = stats.norm.sf(abs(z_stat))*2 #twosided\n",
    "print(f\"z statistic: {z_stat}\", f\"\\np-value: {z_pval}\")"
   ]
  },
  {
   "cell_type": "markdown",
   "metadata": {},
   "source": [
    "The p-value for both the bootstrap approach and the z-test are less than 0.05; therefore, the null hypothesis is rejected. There is a difference between males and females."
   ]
  },
  {
   "cell_type": "markdown",
   "metadata": {},
   "source": [
    "## Conclusion\n",
    "\n",
    "The idea that the average normal body temperature is 98.6$^{\\circ}$F is no longer statistically significant. The 95% confidence interval for average normal body temperature is [98.12, 98.37]. \n",
    "\n",
    "At the individual level, body temperature is considered abnormal if it lies below 96.82 or above 99.68. There is a difference between male and female body temperatures. Females tend to have higher body temperatures."
   ]
  }
 ],
 "metadata": {
  "kernelspec": {
   "display_name": "Python 3",
   "language": "python",
   "name": "python3"
  },
  "language_info": {
   "codemirror_mode": {
    "name": "ipython",
    "version": 3
   },
   "file_extension": ".py",
   "mimetype": "text/x-python",
   "name": "python",
   "nbconvert_exporter": "python",
   "pygments_lexer": "ipython3",
   "version": "3.7.1"
  }
 },
 "nbformat": 4,
 "nbformat_minor": 1
}
